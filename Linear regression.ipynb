{
 "cells": [
  {
   "cell_type": "code",
   "execution_count": 24,
   "metadata": {},
   "outputs": [
    {
     "name": "stdout",
     "output_type": "stream",
     "text": [
      "                         Country  Life expectancy       BMI\n",
      "34   \"Congo, Rep.\",58.8,21.87134              NaN       NaN\n",
      "35                    Costa Rica            79.80  26.47897\n",
      "36                 Cote d'Ivoire            55.40  22.56469\n",
      "37                       Croatia            76.20  26.59629\n",
      "38                          Cuba            77.60  25.06867\n",
      "39                        Cyprus            80.00  27.41899\n",
      "40                       Denmark            78.90  26.13287\n",
      "41                      Djibouti            61.80  23.38403\n",
      "42                       Ecuador            74.70  25.58841\n",
      "43                         Egypt            70.20  26.73243\n",
      "44                   El Salvador            73.70  26.36751\n",
      "45                       Eritrea            60.10  20.88509\n",
      "46                       Estonia            74.20  26.26446\n",
      "47                      Ethiopia            60.00  20.24700\n",
      "48                          Fiji            64.90  26.53078\n",
      "49                       Finland            79.60  26.73339\n",
      "50                        France            81.10  25.85329\n",
      "51              French Polynesia            75.11  30.86752\n",
      "52                         Gabon            61.70  24.07620\n",
      "53                        Gambia            65.70  21.65029\n",
      "54                       Georgia            71.80  25.54942\n",
      "55                       Germany            80.00  27.16509\n",
      "56                         Ghana            62.00  22.84247\n",
      "57                        Greece            80.20  26.33786\n",
      "58                     Greenland            70.30  26.01359\n",
      "59                       Grenada            70.80  25.17988\n",
      "60                     Guatemala            71.20  25.29947\n",
      "61                        Guinea            57.10  22.52449\n",
      "62                 Guinea-Bissau            53.60  21.64338\n",
      "63                        Guyana            65.00  23.68465\n",
      "..                           ...              ...       ...\n",
      "133                        Spain            81.10  27.49975\n",
      "134                    Sri Lanka            74.00  21.96671\n",
      "135                        Sudan            65.50  22.40484\n",
      "136                     Suriname            70.20  25.49887\n",
      "137                    Swaziland            45.10  23.16969\n",
      "138                       Sweden            81.10  26.37629\n",
      "139                  Switzerland            82.00  26.20195\n",
      "140                        Syria            76.10  26.91969\n",
      "141                   Tajikistan            69.60  23.77966\n",
      "142                     Tanzania            60.40  22.47792\n",
      "143                     Thailand            73.90  23.00803\n",
      "144                  Timor-Leste            69.90  20.59082\n",
      "145                         Togo            57.50  21.87875\n",
      "146                        Tonga            70.30  30.99563\n",
      "147          Trinidad and Tobago            71.70  26.39669\n",
      "148                      Tunisia            76.80  25.15699\n",
      "149                       Turkey            77.80  26.70371\n",
      "150                 Turkmenistan            67.20  25.24796\n",
      "151                       Uganda            56.00  22.35833\n",
      "152                      Ukraine            67.80  25.42379\n",
      "153         United Arab Emirates            75.60  28.05359\n",
      "154               United Kingdom            79.70  27.39249\n",
      "155                United States            78.30  28.45698\n",
      "156                      Uruguay            76.00  26.39123\n",
      "157                   Uzbekistan            69.60  25.32054\n",
      "158                      Vanuatu            63.40  26.78926\n",
      "159           West Bank and Gaza            74.10  26.57750\n",
      "160                      Vietnam            74.10  20.91630\n",
      "161                       Zambia            51.10  20.68321\n",
      "162                     Zimbabwe            47.30  22.02660\n",
      "\n",
      "[129 rows x 3 columns]\n"
     ]
    }
   ],
   "source": [
    "import pandas as pd\n",
    "import numpy as np\n",
    "from sklearn.linear_model import LinearRegression\n",
    "df = pd.read_csv('bmi_and_life_expectancy.csv')\n",
    "print(df[34:])\n",
    "#df = pd.read_csv('bmi_and_life_expectancy.csv', error_bad_lines=False)\n",
    "#print(df[34:])"
   ]
  },
  {
   "cell_type": "code",
   "execution_count": null,
   "metadata": {},
   "outputs": [],
   "source": []
  }
 ],
 "metadata": {
  "kernelspec": {
   "display_name": "Python 3",
   "language": "python",
   "name": "python3"
  },
  "language_info": {
   "codemirror_mode": {
    "name": "ipython",
    "version": 3
   },
   "file_extension": ".py",
   "mimetype": "text/x-python",
   "name": "python",
   "nbconvert_exporter": "python",
   "pygments_lexer": "ipython3",
   "version": "3.6.5"
  }
 },
 "nbformat": 4,
 "nbformat_minor": 2
}
